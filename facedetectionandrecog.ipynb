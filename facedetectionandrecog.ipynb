{
 "cells": [
  {
   "cell_type": "code",
   "execution_count": 1,
   "metadata": {},
   "outputs": [],
   "source": [
    "import easygui\n",
    "import os\n",
    "import cv2\n",
    "faceCascade = cv2.CascadeClassifier(\"face.xml\")\n",
    "try:\n",
    "    name = easygui.enterbox()\n",
    "except:\n",
    "    name = \"random\"\n",
    "try:\n",
    "    os.mkdir(\"datasetf\")\n",
    "except:\n",
    "    pass\n",
    "try:\n",
    "    os.mkdir(\"datasetf\"+f\"\\\\\"+name)\n",
    "except:\n",
    "    pass\n",
    "video_capture = cv2.VideoCapture(0)\n",
    "new_path = \"datasetf\\\\\"+name"
   ]
  },
  {
   "cell_type": "code",
   "execution_count": 2,
   "metadata": {},
   "outputs": [
    {
     "data": {
      "text/plain": [
       "'simran'"
      ]
     },
     "execution_count": 2,
     "metadata": {},
     "output_type": "execute_result"
    }
   ],
   "source": [
    "name"
   ]
  },
  {
   "cell_type": "code",
   "execution_count": 3,
   "metadata": {
    "scrolled": true
   },
   "outputs": [],
   "source": [
    "i = 0\n",
    "while True:\n",
    "    ret, frame = video_capture.read()\n",
    "    gray = cv2.cvtColor(frame, cv2.COLOR_BGR2GRAY)\n",
    "    faces = faceCascade.detectMultiScale(gray, scaleFactor=1.2, minNeighbors=5, minSize=(100, 100), flags=cv2.CASCADE_SCALE_IMAGE)\n",
    "    for (x, y, w, h) in faces:\n",
    "        i=i+1\n",
    "        cv2.imwrite(new_path+\"\\\\\"+name +'_'+ str(i) + \".jpg\", gray[y:y+h,x:x+w])\n",
    "        cv2.rectangle(frame, (x, y), (x+w, y+h), (0, 255, 0), 2)\n",
    "    try:\n",
    "        cv2.imshow('Video', frame)\n",
    "    except:\n",
    "        continue\n",
    "    if cv2.waitKey(1) & 0xFF == ord('q'):\n",
    "        break\n",
    "    if i+1>200:\n",
    "        break\n",
    "video_capture.release()\n",
    "cv2.destroyAllWindows()"
   ]
  },
  {
   "cell_type": "code",
   "execution_count": 4,
   "metadata": {},
   "outputs": [],
   "source": [
    "import cv2\n",
    "import os\n",
    "from PIL import Image \n",
    "import pickle\n",
    "import numpy as np\n",
    "face_dict = {}\n",
    "def get_images_and_labels(path):\n",
    "    global face_dict\n",
    "    names=os.listdir(\"datasetf\")\n",
    "    image_paths=[]\n",
    "    new_path=\"datasetf\"\n",
    "    for name in names:\n",
    "        image_paths.append([os.path.join(new_path+\"\\\\\"+name, f) for f in os.listdir(new_path+\"\\\\\"+name)])\n",
    "    \n",
    " # images will contains face images\n",
    "    images = []\n",
    " # labels will contains the label that is assigned to the image\n",
    "    labels = []\n",
    "    nbr = 0\n",
    "    i = 0\n",
    "    j = 0\n",
    "    k = 0\n",
    "    for name in names:\n",
    "        for image_path in image_paths[j]:\n",
    "             # Read the image and convert to grayscale\n",
    "            image_pil = Image.open(image_path).convert('L')\n",
    "             # Convert the image format into numpy array\n",
    "            image = np.array(image_pil, 'uint8')\n",
    "            face_dict[j] = name\n",
    "            #nbr=int(''.join(str(ord(c)) for c in nbr))\n",
    "            \n",
    "             # Detect the face in the image\n",
    "            faceCascade = cv2.CascadeClassifier('face.xml')\n",
    "            faces = faceCascade.detectMultiScale(image)\n",
    "             # If face is detected, append the face to images and the label to labels\n",
    "            for (x, y, w, h) in faces:\n",
    "                images.append(image[y: y + h, x: x + w])\n",
    "                labels.append(j)\n",
    "                #cv2.imshow(\"Adding faces to traning set...\", image[y: y + h, x: x + w])\n",
    "                cv2.waitKey(10)\n",
    "            i = i+1\n",
    "        j = j+1\n",
    "    return images,labels\n",
    "\n",
    "def save_obj(obj, name ):\n",
    "    with open(name + '.pkl', 'wb') as f:\n",
    "        pickle.dump(obj, f, pickle.HIGHEST_PROTOCOL)\n",
    "\n",
    "#file_rename(path,names)\n",
    "images, labels = get_images_and_labels('datasetf\\\\random')\n",
    "recognizer = cv2.face.LBPHFaceRecognizer_create()\n",
    "save_obj(face_dict,\"trainer\\\\trained_faces\")\n",
    "recognizer.train(images, np.array(labels))\n",
    "recognizer.save('trainer\\\\trainer.yml')\n",
    "cv2.destroyAllWindows()"
   ]
  },
  {
   "cell_type": "markdown",
   "metadata": {},
   "source": [
    "# Face Prediction"
   ]
  },
  {
   "cell_type": "code",
   "execution_count": 7,
   "metadata": {},
   "outputs": [],
   "source": [
    "import cv2\n",
    "import pickle\n",
    "recognizer = cv2.face.LBPHFaceRecognizer_create()\n",
    "recognizer.read('trainer\\\\trainer.yml')\n",
    "cascadePath = \"face.xml\"\n",
    "faceCascade = cv2.CascadeClassifier(cascadePath)\n",
    "nbr_predicted, conf=0,0\n",
    "with open(\"trainer\\\\trained_faces.pkl\",'rb') as f:\n",
    "    face_dict = pickle.load(f)\n",
    "# face_dict=load_obj(\"trainer\\\\trained_faces\")\n",
    "cam = cv2.VideoCapture(0)\n",
    "pre_detect = 0\n",
    "while True:\n",
    "    ret, im = cam.read()\n",
    "    gray = cv2.cvtColor(im,cv2.COLOR_BGR2GRAY)\n",
    "    faces = faceCascade.detectMultiScale(gray, scaleFactor=1.2, minNeighbors=5, minSize=(100, 100), flags=cv2.CASCADE_SCALE_IMAGE)\n",
    "    for(x,y,w,h) in faces:\n",
    "        nbr_predicted, conf = recognizer.predict(gray[y:y+h,x:x+w])\n",
    "        #print(round(100 - conf, 2))\n",
    "        cv2.rectangle(im,(x-50,y-50),(x+w+50,y+h+50),(225,0,0),2)\n",
    "        label = face_dict[nbr_predicted]\n",
    "        if(conf<70):\n",
    "            cv2.putText(im,str(label),(x,y+h),cv2.FONT_HERSHEY_SIMPLEX, 1,(255,255,255),2)\n",
    "#           detect = 1   \n",
    "        else :\n",
    "            cv2.putText(im,str(\"UNKNOWN\"),(x,y+h),cv2.FONT_HERSHEY_SIMPLEX, 1,(255,255,255),2)\n",
    "            detect = 0\n",
    "        cv2.putText(im,\"press esc to exit\",(x-45,y-40),cv2.FONT_HERSHEY_SIMPLEX, 0.5,(255,255,0),2)\n",
    "#         if pre_detect != detect:\n",
    "#             aio.send('foo',detect)\n",
    "#             pre_detect = detect\n",
    "    cv2.imshow('im',im)\n",
    "    k = cv2.waitKey(1) & 0xff\n",
    "    if k == 27:\n",
    "        break\n",
    "cam.release()\n",
    "cv2.destroyAllWindows()"
   ]
  },
  {
   "cell_type": "code",
   "execution_count": null,
   "metadata": {},
   "outputs": [],
   "source": []
  }
 ],
 "metadata": {
  "kernelspec": {
   "display_name": "Python 3",
   "language": "python",
   "name": "python3"
  },
  "language_info": {
   "codemirror_mode": {
    "name": "ipython",
    "version": 3
   },
   "file_extension": ".py",
   "mimetype": "text/x-python",
   "name": "python",
   "nbconvert_exporter": "python",
   "pygments_lexer": "ipython3",
   "version": "3.8.5"
  }
 },
 "nbformat": 4,
 "nbformat_minor": 2
}
